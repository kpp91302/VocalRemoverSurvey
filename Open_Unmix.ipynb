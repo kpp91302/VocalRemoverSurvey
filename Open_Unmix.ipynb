{
  "nbformat": 4,
  "nbformat_minor": 0,
  "metadata": {
    "colab": {
      "provenance": [],
      "gpuType": "T4"
    },
    "kernelspec": {
      "name": "python3",
      "display_name": "Python 3"
    },
    "language_info": {
      "name": "python"
    },
    "accelerator": "GPU"
  },
  "cells": [
    {
      "cell_type": "markdown",
      "source": [
        "# Vocal Removal - Open-Unmix"
      ],
      "metadata": {
        "id": "v0f3gNYNVENn"
      }
    },
    {
      "cell_type": "code",
      "source": [
        "from google.colab import drive\n",
        "drive.mount('/content/drive', force_remount=True)\n",
        "import os\n",
        "os.chdir('/content/drive/My Drive/umx')"
      ],
      "metadata": {
        "id": "Y70fUeBnTI8X",
        "colab": {
          "base_uri": "https://localhost:8080/"
        },
        "outputId": "e20a3373-e365-4d2c-815c-f3942e220ce0"
      },
      "execution_count": null,
      "outputs": [
        {
          "output_type": "stream",
          "name": "stdout",
          "text": [
            "Mounted at /content/drive\n"
          ]
        }
      ]
    },
    {
      "cell_type": "code",
      "source": [
        "!pip install openunmix"
      ],
      "metadata": {
        "colab": {
          "base_uri": "https://localhost:8080/"
        },
        "id": "yei2tHhV18cy",
        "outputId": "588a1102-8a06-49cd-f42a-477862d0d206"
      },
      "execution_count": null,
      "outputs": [
        {
          "output_type": "stream",
          "name": "stdout",
          "text": [
            "Collecting openunmix\n",
            "  Downloading openunmix-1.3.0-py3-none-any.whl (40 kB)\n",
            "\u001b[2K     \u001b[90m━━━━━━━━━━━━━━━━━━━━━━━━━━━━━━━━━━━━━━━━\u001b[0m \u001b[32m40.0/40.0 kB\u001b[0m \u001b[31m847.0 kB/s\u001b[0m eta \u001b[36m0:00:00\u001b[0m\n",
            "\u001b[?25hRequirement already satisfied: numpy in /usr/local/lib/python3.10/dist-packages (from openunmix) (1.25.2)\n",
            "Requirement already satisfied: torchaudio>=0.9.0 in /usr/local/lib/python3.10/dist-packages (from openunmix) (2.2.1+cu121)\n",
            "Requirement already satisfied: torch>=1.9.0 in /usr/local/lib/python3.10/dist-packages (from openunmix) (2.2.1+cu121)\n",
            "Requirement already satisfied: tqdm in /usr/local/lib/python3.10/dist-packages (from openunmix) (4.66.2)\n",
            "Requirement already satisfied: filelock in /usr/local/lib/python3.10/dist-packages (from torch>=1.9.0->openunmix) (3.13.4)\n",
            "Requirement already satisfied: typing-extensions>=4.8.0 in /usr/local/lib/python3.10/dist-packages (from torch>=1.9.0->openunmix) (4.11.0)\n",
            "Requirement already satisfied: sympy in /usr/local/lib/python3.10/dist-packages (from torch>=1.9.0->openunmix) (1.12)\n",
            "Requirement already satisfied: networkx in /usr/local/lib/python3.10/dist-packages (from torch>=1.9.0->openunmix) (3.3)\n",
            "Requirement already satisfied: jinja2 in /usr/local/lib/python3.10/dist-packages (from torch>=1.9.0->openunmix) (3.1.3)\n",
            "Requirement already satisfied: fsspec in /usr/local/lib/python3.10/dist-packages (from torch>=1.9.0->openunmix) (2023.6.0)\n",
            "Collecting nvidia-cuda-nvrtc-cu12==12.1.105 (from torch>=1.9.0->openunmix)\n",
            "  Using cached nvidia_cuda_nvrtc_cu12-12.1.105-py3-none-manylinux1_x86_64.whl (23.7 MB)\n",
            "Collecting nvidia-cuda-runtime-cu12==12.1.105 (from torch>=1.9.0->openunmix)\n",
            "  Using cached nvidia_cuda_runtime_cu12-12.1.105-py3-none-manylinux1_x86_64.whl (823 kB)\n",
            "Collecting nvidia-cuda-cupti-cu12==12.1.105 (from torch>=1.9.0->openunmix)\n",
            "  Using cached nvidia_cuda_cupti_cu12-12.1.105-py3-none-manylinux1_x86_64.whl (14.1 MB)\n",
            "Collecting nvidia-cudnn-cu12==8.9.2.26 (from torch>=1.9.0->openunmix)\n",
            "  Using cached nvidia_cudnn_cu12-8.9.2.26-py3-none-manylinux1_x86_64.whl (731.7 MB)\n",
            "Collecting nvidia-cublas-cu12==12.1.3.1 (from torch>=1.9.0->openunmix)\n",
            "  Using cached nvidia_cublas_cu12-12.1.3.1-py3-none-manylinux1_x86_64.whl (410.6 MB)\n",
            "Collecting nvidia-cufft-cu12==11.0.2.54 (from torch>=1.9.0->openunmix)\n",
            "  Using cached nvidia_cufft_cu12-11.0.2.54-py3-none-manylinux1_x86_64.whl (121.6 MB)\n",
            "Collecting nvidia-curand-cu12==10.3.2.106 (from torch>=1.9.0->openunmix)\n",
            "  Using cached nvidia_curand_cu12-10.3.2.106-py3-none-manylinux1_x86_64.whl (56.5 MB)\n",
            "Collecting nvidia-cusolver-cu12==11.4.5.107 (from torch>=1.9.0->openunmix)\n",
            "  Using cached nvidia_cusolver_cu12-11.4.5.107-py3-none-manylinux1_x86_64.whl (124.2 MB)\n",
            "Collecting nvidia-cusparse-cu12==12.1.0.106 (from torch>=1.9.0->openunmix)\n",
            "  Using cached nvidia_cusparse_cu12-12.1.0.106-py3-none-manylinux1_x86_64.whl (196.0 MB)\n",
            "Collecting nvidia-nccl-cu12==2.19.3 (from torch>=1.9.0->openunmix)\n",
            "  Using cached nvidia_nccl_cu12-2.19.3-py3-none-manylinux1_x86_64.whl (166.0 MB)\n",
            "Collecting nvidia-nvtx-cu12==12.1.105 (from torch>=1.9.0->openunmix)\n",
            "  Using cached nvidia_nvtx_cu12-12.1.105-py3-none-manylinux1_x86_64.whl (99 kB)\n",
            "Requirement already satisfied: triton==2.2.0 in /usr/local/lib/python3.10/dist-packages (from torch>=1.9.0->openunmix) (2.2.0)\n",
            "Collecting nvidia-nvjitlink-cu12 (from nvidia-cusolver-cu12==11.4.5.107->torch>=1.9.0->openunmix)\n",
            "  Using cached nvidia_nvjitlink_cu12-12.4.127-py3-none-manylinux2014_x86_64.whl (21.1 MB)\n",
            "Requirement already satisfied: MarkupSafe>=2.0 in /usr/local/lib/python3.10/dist-packages (from jinja2->torch>=1.9.0->openunmix) (2.1.5)\n",
            "Requirement already satisfied: mpmath>=0.19 in /usr/local/lib/python3.10/dist-packages (from sympy->torch>=1.9.0->openunmix) (1.3.0)\n",
            "Installing collected packages: nvidia-nvtx-cu12, nvidia-nvjitlink-cu12, nvidia-nccl-cu12, nvidia-curand-cu12, nvidia-cufft-cu12, nvidia-cuda-runtime-cu12, nvidia-cuda-nvrtc-cu12, nvidia-cuda-cupti-cu12, nvidia-cublas-cu12, nvidia-cusparse-cu12, nvidia-cudnn-cu12, nvidia-cusolver-cu12, openunmix\n",
            "Successfully installed nvidia-cublas-cu12-12.1.3.1 nvidia-cuda-cupti-cu12-12.1.105 nvidia-cuda-nvrtc-cu12-12.1.105 nvidia-cuda-runtime-cu12-12.1.105 nvidia-cudnn-cu12-8.9.2.26 nvidia-cufft-cu12-11.0.2.54 nvidia-curand-cu12-10.3.2.106 nvidia-cusolver-cu12-11.4.5.107 nvidia-cusparse-cu12-12.1.0.106 nvidia-nccl-cu12-2.19.3 nvidia-nvjitlink-cu12-12.4.127 nvidia-nvtx-cu12-12.1.105 openunmix-1.3.0\n"
          ]
        }
      ]
    },
    {
      "cell_type": "code",
      "source": [
        "from openunmix import predict"
      ],
      "metadata": {
        "id": "Kvbz1P3w2mms"
      },
      "execution_count": null,
      "outputs": []
    },
    {
      "cell_type": "code",
      "source": [
        "import torch\n",
        "use_cuda = torch.cuda.is_available()\n",
        "device = torch.device(\"cuda\" if use_cuda else \"cpu\")"
      ],
      "metadata": {
        "id": "RyIe9fep19WV"
      },
      "execution_count": null,
      "outputs": []
    },
    {
      "cell_type": "markdown",
      "source": [
        "## Evaluation"
      ],
      "metadata": {
        "id": "p8PL44wLU_69"
      }
    },
    {
      "cell_type": "code",
      "source": [
        "!pip install musdb\n",
        "!pip install museval"
      ],
      "metadata": {
        "id": "KwflX_WAVG6C",
        "colab": {
          "base_uri": "https://localhost:8080/"
        },
        "outputId": "66ec5d1f-3a13-41ae-9e4a-c724605d2bb5"
      },
      "execution_count": null,
      "outputs": [
        {
          "output_type": "stream",
          "name": "stdout",
          "text": [
            "Collecting musdb\n",
            "  Downloading musdb-0.4.2-py2.py3-none-any.whl (13 kB)\n",
            "Requirement already satisfied: numpy>=1.7 in /usr/local/lib/python3.10/dist-packages (from musdb) (1.25.2)\n",
            "Collecting stempeg>=0.2.3 (from musdb)\n",
            "  Downloading stempeg-0.2.3-py3-none-any.whl (963 kB)\n",
            "\u001b[2K     \u001b[90m━━━━━━━━━━━━━━━━━━━━━━━━━━━━━━━━━━━━━━━━\u001b[0m \u001b[32m963.5/963.5 kB\u001b[0m \u001b[31m6.2 MB/s\u001b[0m eta \u001b[36m0:00:00\u001b[0m\n",
            "\u001b[?25hCollecting pyaml (from musdb)\n",
            "  Downloading pyaml-24.4.0-py3-none-any.whl (24 kB)\n",
            "Requirement already satisfied: tqdm in /usr/local/lib/python3.10/dist-packages (from musdb) (4.66.2)\n",
            "Collecting ffmpeg-python>=0.2.0 (from stempeg>=0.2.3->musdb)\n",
            "  Downloading ffmpeg_python-0.2.0-py3-none-any.whl (25 kB)\n",
            "Requirement already satisfied: PyYAML in /usr/local/lib/python3.10/dist-packages (from pyaml->musdb) (6.0.1)\n",
            "Requirement already satisfied: future in /usr/local/lib/python3.10/dist-packages (from ffmpeg-python>=0.2.0->stempeg>=0.2.3->musdb) (0.18.3)\n",
            "Installing collected packages: pyaml, ffmpeg-python, stempeg, musdb\n",
            "Successfully installed ffmpeg-python-0.2.0 musdb-0.4.2 pyaml-24.4.0 stempeg-0.2.3\n",
            "Collecting museval\n",
            "  Downloading museval-0.4.1-py2.py3-none-any.whl (20 kB)\n",
            "Requirement already satisfied: musdb>=0.4.0 in /usr/local/lib/python3.10/dist-packages (from museval) (0.4.2)\n",
            "Requirement already satisfied: pandas>=1.0.1 in /usr/local/lib/python3.10/dist-packages (from museval) (2.0.3)\n",
            "Requirement already satisfied: numpy in /usr/local/lib/python3.10/dist-packages (from museval) (1.25.2)\n",
            "Requirement already satisfied: scipy in /usr/local/lib/python3.10/dist-packages (from museval) (1.11.4)\n",
            "Collecting simplejson>=3.19.0 (from museval)\n",
            "  Downloading simplejson-3.19.2-cp310-cp310-manylinux_2_5_x86_64.manylinux1_x86_64.manylinux_2_17_x86_64.manylinux2014_x86_64.whl (137 kB)\n",
            "\u001b[2K     \u001b[90m━━━━━━━━━━━━━━━━━━━━━━━━━━━━━━━━━━━━━━━━\u001b[0m \u001b[32m137.9/137.9 kB\u001b[0m \u001b[31m1.9 MB/s\u001b[0m eta \u001b[36m0:00:00\u001b[0m\n",
            "\u001b[?25hRequirement already satisfied: soundfile in /usr/local/lib/python3.10/dist-packages (from museval) (0.12.1)\n",
            "Requirement already satisfied: jsonschema in /usr/local/lib/python3.10/dist-packages (from museval) (4.19.2)\n",
            "Requirement already satisfied: stempeg>=0.2.3 in /usr/local/lib/python3.10/dist-packages (from musdb>=0.4.0->museval) (0.2.3)\n",
            "Requirement already satisfied: pyaml in /usr/local/lib/python3.10/dist-packages (from musdb>=0.4.0->museval) (24.4.0)\n",
            "Requirement already satisfied: tqdm in /usr/local/lib/python3.10/dist-packages (from musdb>=0.4.0->museval) (4.66.2)\n",
            "Requirement already satisfied: python-dateutil>=2.8.2 in /usr/local/lib/python3.10/dist-packages (from pandas>=1.0.1->museval) (2.8.2)\n",
            "Requirement already satisfied: pytz>=2020.1 in /usr/local/lib/python3.10/dist-packages (from pandas>=1.0.1->museval) (2023.4)\n",
            "Requirement already satisfied: tzdata>=2022.1 in /usr/local/lib/python3.10/dist-packages (from pandas>=1.0.1->museval) (2024.1)\n",
            "Requirement already satisfied: attrs>=22.2.0 in /usr/local/lib/python3.10/dist-packages (from jsonschema->museval) (23.2.0)\n",
            "Requirement already satisfied: jsonschema-specifications>=2023.03.6 in /usr/local/lib/python3.10/dist-packages (from jsonschema->museval) (2023.12.1)\n",
            "Requirement already satisfied: referencing>=0.28.4 in /usr/local/lib/python3.10/dist-packages (from jsonschema->museval) (0.34.0)\n",
            "Requirement already satisfied: rpds-py>=0.7.1 in /usr/local/lib/python3.10/dist-packages (from jsonschema->museval) (0.18.0)\n",
            "Requirement already satisfied: cffi>=1.0 in /usr/local/lib/python3.10/dist-packages (from soundfile->museval) (1.16.0)\n",
            "Requirement already satisfied: pycparser in /usr/local/lib/python3.10/dist-packages (from cffi>=1.0->soundfile->museval) (2.22)\n",
            "Requirement already satisfied: six>=1.5 in /usr/local/lib/python3.10/dist-packages (from python-dateutil>=2.8.2->pandas>=1.0.1->museval) (1.16.0)\n",
            "Requirement already satisfied: ffmpeg-python>=0.2.0 in /usr/local/lib/python3.10/dist-packages (from stempeg>=0.2.3->musdb>=0.4.0->museval) (0.2.0)\n",
            "Requirement already satisfied: PyYAML in /usr/local/lib/python3.10/dist-packages (from pyaml->musdb>=0.4.0->museval) (6.0.1)\n",
            "Requirement already satisfied: future in /usr/local/lib/python3.10/dist-packages (from ffmpeg-python>=0.2.0->stempeg>=0.2.3->musdb>=0.4.0->museval) (0.18.3)\n",
            "Installing collected packages: simplejson, museval\n",
            "Successfully installed museval-0.4.1 simplejson-3.19.2\n"
          ]
        }
      ]
    },
    {
      "cell_type": "markdown",
      "source": [
        "Open-Unmix has a feature where it can predict a particular track and everything besides that track (a residual)."
      ],
      "metadata": {
        "id": "rNnu-E7wGMqS"
      }
    },
    {
      "cell_type": "code",
      "source": [
        "import musdb\n",
        "import museval\n",
        "\n",
        "def estimate_and_evaluate(track):\n",
        "    predictions = predict.separate(\n",
        "        torch.as_tensor(track.audio).float(),\n",
        "        rate=track.rate,\n",
        "        targets=['vocals'],\n",
        "        residual=True,\n",
        "        device=device\n",
        "    )\n",
        "\n",
        "    estimates = {\n",
        "        'vocals': predictions['vocals'].detach().cpu().numpy()[0].T,\n",
        "        'accompaniment': predictions['residual'].detach().cpu().numpy()[0].T\n",
        "    }\n",
        "\n",
        "    scores = museval.eval_mus_track(\n",
        "        track, estimates, output_dir=\"output\"\n",
        "    )\n",
        "\n",
        "    return scores"
      ],
      "metadata": {
        "id": "tRYEB1xYVKXo"
      },
      "execution_count": null,
      "outputs": []
    },
    {
      "cell_type": "code",
      "source": [
        "mus = musdb.DB(download=True, subsets=\"test\")"
      ],
      "metadata": {
        "colab": {
          "base_uri": "https://localhost:8080/"
        },
        "id": "AwTMMLpWD37Z",
        "outputId": "9514e7a9-8739-4434-ea55-7ce39093aed6"
      },
      "execution_count": null,
      "outputs": [
        {
          "output_type": "stream",
          "name": "stdout",
          "text": [
            "Downloading MUSDB 7s Sample Dataset to /root/MUSDB18/MUSDB18-7...\n"
          ]
        },
        {
          "output_type": "stream",
          "name": "stderr",
          "text": [
            "100%|██████████| 140M/140M [00:00<00:00, 222MB/s]\n"
          ]
        }
      ]
    },
    {
      "cell_type": "code",
      "source": [
        "import re\n",
        "\n",
        "def parse_audio_metrics(audio_metrics):\n",
        "    first_line = audio_metrics.split('\\n')[0]\n",
        "    pattern = r\"(SDR|SIR|ISR|SAR):\\s*([-+]?\\d*\\.\\d+|\\d+)\"\n",
        "    metrics = dict(re.findall(pattern, first_line))\n",
        "    metrics = {key: float(value) for key, value in metrics.items()}\n",
        "    return metrics"
      ],
      "metadata": {
        "id": "AH2jqNN_xhZK"
      },
      "execution_count": null,
      "outputs": []
    },
    {
      "cell_type": "code",
      "source": [
        "sdr = []\n",
        "sir = []\n",
        "isr = []\n",
        "sar = []\n",
        "n = len(mus)\n",
        "for i, track in enumerate(mus):\n",
        "  print(f\"Track {i+1} of {n}\")\n",
        "  scores = estimate_and_evaluate(track)\n",
        "  metrics = parse_audio_metrics(str(scores))\n",
        "  sdr.append(metrics['SDR'])\n",
        "  sir.append(metrics['SIR'])\n",
        "  isr.append(metrics['ISR'])\n",
        "  sar.append(metrics['SAR'])"
      ],
      "metadata": {
        "colab": {
          "base_uri": "https://localhost:8080/"
        },
        "id": "lXhOpjLIFW8y",
        "outputId": "70f80dcc-3892-4c9c-ee5c-a9df347690f9"
      },
      "execution_count": null,
      "outputs": [
        {
          "output_type": "stream",
          "name": "stdout",
          "text": [
            "Track 1 of 50\n",
            "Track 2 of 50\n",
            "Track 3 of 50\n",
            "Track 4 of 50\n",
            "Track 5 of 50\n",
            "Track 6 of 50\n",
            "Track 7 of 50\n",
            "Track 8 of 50\n",
            "Track 9 of 50\n",
            "Track 10 of 50\n",
            "Track 11 of 50\n",
            "Track 12 of 50\n",
            "Track 13 of 50\n",
            "Track 14 of 50\n",
            "Track 15 of 50\n",
            "Track 16 of 50\n",
            "Track 17 of 50\n",
            "Track 18 of 50\n",
            "Track 19 of 50\n",
            "Track 20 of 50\n",
            "Track 21 of 50\n",
            "Track 22 of 50\n",
            "Track 23 of 50\n",
            "Track 24 of 50\n",
            "Track 25 of 50\n",
            "Track 26 of 50\n",
            "Track 27 of 50\n",
            "Track 28 of 50\n",
            "Track 29 of 50\n",
            "Track 30 of 50\n",
            "Track 31 of 50\n",
            "Track 32 of 50\n",
            "Track 33 of 50\n",
            "Track 34 of 50\n",
            "Track 35 of 50\n",
            "Track 36 of 50\n",
            "Track 37 of 50\n",
            "Track 38 of 50\n",
            "Track 39 of 50\n",
            "Track 40 of 50\n",
            "Track 41 of 50\n",
            "Track 42 of 50\n",
            "Track 43 of 50\n",
            "Track 44 of 50\n",
            "Track 45 of 50\n",
            "Track 46 of 50\n",
            "Track 47 of 50\n",
            "Track 48 of 50\n",
            "Track 49 of 50\n",
            "Track 50 of 50\n"
          ]
        }
      ]
    },
    {
      "cell_type": "code",
      "source": [
        "for track in mus:\n",
        "  print(f\"{track.name}\")"
      ],
      "metadata": {
        "id": "WqqkDUZyvy3v"
      },
      "execution_count": null,
      "outputs": []
    },
    {
      "cell_type": "code",
      "source": [
        "for arr in [sdr, sir, isr, sar]:\n",
        "  for s in arr:\n",
        "    print(s)\n",
        "  print()"
      ],
      "metadata": {
        "colab": {
          "base_uri": "https://localhost:8080/"
        },
        "id": "d9m5IdVIx5XF",
        "outputId": "35853088-ffa6-4780-ba1a-c7477838742a"
      },
      "execution_count": null,
      "outputs": [
        {
          "output_type": "stream",
          "name": "stdout",
          "text": [
            "9.553\n",
            "7.503\n",
            "9.949\n",
            "4.898\n",
            "5.471\n",
            "9.593\n",
            "4.533\n",
            "7.572\n",
            "3.272\n",
            "7.098\n",
            "13.783\n",
            "8.641\n",
            "9.844\n",
            "7.917\n",
            "6.97\n",
            "4.295\n",
            "5.818\n",
            "5.644\n",
            "9.593\n",
            "8.495\n",
            "7.034\n",
            "12.766\n",
            "7.267\n",
            "12.796\n",
            "-0.573\n",
            "12.827\n",
            "7.798\n",
            "-4.458\n",
            "0.028\n",
            "8.158\n",
            "5.707\n",
            "8.182\n",
            "7.894\n",
            "8.443\n",
            "10.785\n",
            "8.763\n",
            "3.71\n",
            "4.135\n",
            "6.055\n",
            "6.999\n",
            "4.168\n",
            "3.414\n",
            "8.07\n",
            "7.809\n",
            "9.223\n",
            "3.801\n",
            "5.829\n",
            "9.031\n",
            "5.601\n",
            "7.79\n",
            "\n",
            "16.578\n",
            "12.038\n",
            "16.386\n",
            "9.671\n",
            "12.959\n",
            "15.193\n",
            "7.936\n",
            "10.612\n",
            "9.104\n",
            "11.034\n",
            "18.932\n",
            "11.445\n",
            "14.993\n",
            "11.998\n",
            "9.108\n",
            "7.547\n",
            "8.388\n",
            "12.144\n",
            "13.129\n",
            "15.147\n",
            "13.029\n",
            "19.104\n",
            "12.238\n",
            "19.06\n",
            "-1.306\n",
            "21.901\n",
            "13.595\n",
            "-24.36\n",
            "-9.928\n",
            "17.142\n",
            "8.776\n",
            "9.93\n",
            "12.49\n",
            "17.154\n",
            "15.687\n",
            "13.889\n",
            "5.057\n",
            "6.602\n",
            "9.051\n",
            "15.204\n",
            "7.079\n",
            "9.311\n",
            "12.673\n",
            "13.339\n",
            "15.402\n",
            "8.398\n",
            "11.46\n",
            "10.552\n",
            "11.215\n",
            "13.891\n",
            "\n",
            "13.422\n",
            "17.856\n",
            "16.157\n",
            "16.157\n",
            "10.095\n",
            "19.462\n",
            "8.789\n",
            "13.631\n",
            "4.569\n",
            "15.128\n",
            "23.885\n",
            "21.172\n",
            "23.019\n",
            "16.617\n",
            "15.781\n",
            "12.105\n",
            "12.532\n",
            "9.382\n",
            "18.981\n",
            "13.721\n",
            "13.321\n",
            "23.182\n",
            "14.044\n",
            "20.684\n",
            "7.19\n",
            "23.618\n",
            "11.554\n",
            "0.01\n",
            "0.054\n",
            "15.629\n",
            "15.203\n",
            "22.398\n",
            "16.179\n",
            "18.109\n",
            "20.619\n",
            "13.679\n",
            "5.99\n",
            "12.963\n",
            "13.128\n",
            "9.267\n",
            "10.475\n",
            "6.017\n",
            "16.732\n",
            "17.234\n",
            "21.417\n",
            "8.051\n",
            "10.507\n",
            "18.8\n",
            "12.105\n",
            "15.454\n",
            "\n",
            "12.877\n",
            "9.494\n",
            "10.498\n",
            "6.559\n",
            "6.131\n",
            "10.855\n",
            "4.347\n",
            "7.876\n",
            "2.801\n",
            "8.582\n",
            "13.445\n",
            "10.114\n",
            "12.199\n",
            "9.47\n",
            "7.84\n",
            "7.211\n",
            "7.998\n",
            "5.862\n",
            "10.331\n",
            "9.584\n",
            "7.027\n",
            "13.599\n",
            "9.196\n",
            "13.582\n",
            "4.42\n",
            "13.718\n",
            "10.555\n",
            "-8.024\n",
            "-7.546\n",
            "9.165\n",
            "7.391\n",
            "12.529\n",
            "9.452\n",
            "9.534\n",
            "11.609\n",
            "9.412\n",
            "3.668\n",
            "7.485\n",
            "8.194\n",
            "6.953\n",
            "5.844\n",
            "4.527\n",
            "8.775\n",
            "8.842\n",
            "10.711\n",
            "5.44\n",
            "7.383\n",
            "12.04\n",
            "6.173\n",
            "8.015\n",
            "\n"
          ]
        }
      ]
    }
  ]
}