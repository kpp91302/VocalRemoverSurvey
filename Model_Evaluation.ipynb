{
  "nbformat": 4,
  "nbformat_minor": 0,
  "metadata": {
    "colab": {
      "provenance": []
    },
    "kernelspec": {
      "name": "python3",
      "display_name": "Python 3"
    },
    "language_info": {
      "name": "python"
    }
  },
  "cells": [
    {
      "cell_type": "markdown",
      "source": [
        "Install dependencies"
      ],
      "metadata": {
        "id": "aq7ktbGpIVRW"
      }
    },
    {
      "cell_type": "code",
      "execution_count": null,
      "metadata": {
        "id": "pWp7FrAqaPBW"
      },
      "outputs": [],
      "source": [
        "!pip install museval musdb stempeg soundfile numpy librosa"
      ]
    },
    {
      "cell_type": "markdown",
      "source": [
        "Import necessary libraries"
      ],
      "metadata": {
        "id": "gg9M7v0jIXdX"
      }
    },
    {
      "cell_type": "code",
      "source": [
        "import musdb\n",
        "import librosa\n",
        "import museval\n",
        "from google.colab import drive\n",
        "import os\n",
        "import numpy as np\n",
        "import stempeg\n",
        "import soundfile as sf"
      ],
      "metadata": {
        "id": "gpSDkfvHahY_"
      },
      "execution_count": null,
      "outputs": []
    },
    {
      "cell_type": "markdown",
      "source": [
        "Connect to google drive"
      ],
      "metadata": {
        "id": "hyJTN7VsIZYF"
      }
    },
    {
      "cell_type": "code",
      "source": [
        "drive.mount('/content/drive')"
      ],
      "metadata": {
        "id": "9zkqW8n_akMK"
      },
      "execution_count": null,
      "outputs": []
    },
    {
      "cell_type": "markdown",
      "source": [
        "Get the musdb dataset and the stems for the model"
      ],
      "metadata": {
        "id": "V7LA052YIbti"
      }
    },
    {
      "cell_type": "code",
      "source": [
        "mus_path = '/content/drive/MyDrive/musdb18/test' #change this depending on where musdb is stored\n",
        "est_path = '/content/drive/MyDrive/mdxVocals' # change the folder based on what model you are evaluating\n",
        "mus = musdb.DB(root='/content/drive/MyDrive/musdb18', subsets=['test'])"
      ],
      "metadata": {
        "id": "eYwOdSbRamQ1"
      },
      "execution_count": null,
      "outputs": []
    },
    {
      "cell_type": "markdown",
      "source": [
        "Evaluate the model"
      ],
      "metadata": {
        "id": "0R9u8i48IfX1"
      }
    },
    {
      "cell_type": "code",
      "source": [
        "for track in mus:\n",
        "  print(track.name)\n",
        "  est_track = track.name\n",
        "  est_vocals = sf.read(f\"{est_path}/{est_track}.stem_(Vocals).wav\")[0]\n",
        "  est_drums = sf.read(f\"{est_path}/{est_track}.stem_(Vocals).wav\")[0] # this isnt actually the drums, museval just requires us to eval 2 or more stems\n",
        "\n",
        "  #ignore the drums output as this isnt accurate or relevant\n",
        "  scores = museval.eval_mus_track(track, {\"vocals\": est_vocals,\"drums\":est_drums}, mode='v4', win=1.0, hop=1.0)\n",
        "  print(scores)"
      ],
      "metadata": {
        "id": "B7rV3SqNarOH"
      },
      "execution_count": null,
      "outputs": []
    }
  ]
}